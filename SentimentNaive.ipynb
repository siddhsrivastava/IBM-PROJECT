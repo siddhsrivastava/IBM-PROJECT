{
  "nbformat": 4,
  "nbformat_minor": 0,
  "metadata": {
    "colab": {
      "provenance": [],
      "authorship_tag": "ABX9TyOPQECRjYzgRMdWdj7DsAly",
      "include_colab_link": true
    },
    "kernelspec": {
      "name": "python3",
      "display_name": "Python 3"
    },
    "language_info": {
      "name": "python"
    }
  },
  "cells": [
    {
      "cell_type": "markdown",
      "metadata": {
        "id": "view-in-github",
        "colab_type": "text"
      },
      "source": [
        "<a href=\"https://colab.research.google.com/github/siddhsrivastava/IBM-PROJECT/blob/main/SentimentNaive.ipynb\" target=\"_parent\"><img src=\"https://colab.research.google.com/assets/colab-badge.svg\" alt=\"Open In Colab\"/></a>"
      ]
    },
    {
      "cell_type": "code",
      "execution_count": 10,
      "metadata": {
        "colab": {
          "base_uri": "https://localhost:8080/",
          "height": 1000
        },
        "id": "XApnNI875xpb",
        "outputId": "8bae53b4-2742-46b7-94e3-a1e390eefa86"
      },
      "outputs": [
        {
          "output_type": "stream",
          "name": "stderr",
          "text": [
            "[nltk_data] Downloading package punkt to /root/nltk_data...\n",
            "[nltk_data]   Package punkt is already up-to-date!\n",
            "[nltk_data] Downloading package stopwords to /root/nltk_data...\n",
            "[nltk_data]   Package stopwords is already up-to-date!\n",
            "/usr/local/lib/python3.11/dist-packages/sklearn/metrics/_classification.py:1565: UndefinedMetricWarning: Precision is ill-defined and being set to 0.0 in labels with no predicted samples. Use `zero_division` parameter to control this behavior.\n",
            "  _warn_prf(average, modifier, f\"{metric.capitalize()} is\", len(result))\n",
            "/usr/local/lib/python3.11/dist-packages/sklearn/metrics/_classification.py:1565: UndefinedMetricWarning: Precision is ill-defined and being set to 0.0 in labels with no predicted samples. Use `zero_division` parameter to control this behavior.\n",
            "  _warn_prf(average, modifier, f\"{metric.capitalize()} is\", len(result))\n",
            "/usr/local/lib/python3.11/dist-packages/sklearn/metrics/_classification.py:1565: UndefinedMetricWarning: Precision is ill-defined and being set to 0.0 in labels with no predicted samples. Use `zero_division` parameter to control this behavior.\n",
            "  _warn_prf(average, modifier, f\"{metric.capitalize()} is\", len(result))\n"
          ]
        },
        {
          "output_type": "stream",
          "name": "stdout",
          "text": [
            "\n",
            "Classification Report:\n",
            "\n",
            "              precision    recall  f1-score   support\n",
            "\n",
            "    negative       0.00      0.00      0.00         2\n",
            "    positive       0.33      1.00      0.50         1\n",
            "\n",
            "    accuracy                           0.33         3\n",
            "   macro avg       0.17      0.50      0.25         3\n",
            "weighted avg       0.11      0.33      0.17         3\n",
            "\n"
          ]
        },
        {
          "output_type": "display_data",
          "data": {
            "text/plain": [
              "<Figure size 640x480 with 2 Axes>"
            ],
            "image/png": "[encoded data removed]"
          },
          "metadata": {}
        },
        {
          "output_type": "stream",
          "name": "stdout",
          "text": [
            "\n",
            "Sentiment Predictions:\n",
            "\n",
            "Review: \"Nothing extraordinary\" ➜ Predicted Sentiment: neutral\n",
            "Review: \"Do not buy this product\" ➜ Predicted Sentiment: negative\n",
            "Review: \"Top-notch and reliable\" ➜ Predicted Sentiment: positive\n",
            "Review: \"Terrible support team\" ➜ Predicted Sentiment: positive\n",
            "Review: \"I'm very happy with it\" ➜ Predicted Sentiment: positive\n"
          ]
        }
      ],
      "source": [
        "\n",
        "import pandas as pd\n",
        "import numpy as np\n",
        "import matplotlib.pyplot as plt\n",
        "import seaborn as sns\n",
        "\n",
        "from sklearn.model_selection import train_test_split\n",
        "from sklearn.feature_extraction.text import TfidfVectorizer\n",
        "from sklearn.naive_bayes import MultinomialNB\n",
        "from sklearn.metrics import confusion_matrix, classification_report\n",
        "import nltk\n",
        "import string\n",
        "from nltk.corpus import stopwords\n",
        "from nltk.stem import PorterStemmer\n",
        "\n",
        "nltk.download('punkt')\n",
        "nltk.download('stopwords')\n",
        "\n",
        "\n",
        "data = {\n",
        "    'Review': [\n",
        "        \"I love this product!\",\n",
        "        \"Worst experience ever.\",\n",
        "        \"Top-notch and reliable\",\n",
        "        \"Do not buy this product\",\n",
        "        \"Nothing extraordinary\",\n",
        "        \"Terrible support team\",\n",
        "        \"I'm very happy with it\",\n",
        "        \"It was okay, nothing special\",\n",
        "        \"Absolutely fantastic quality\",\n",
        "        \"Complete waste of money\"\n",
        "    ],\n",
        "    'Sentiment': [\n",
        "        'positive', 'negative', 'positive', 'negative', 'neutral',\n",
        "        'negative', 'positive', 'neutral', 'positive', 'negative'\n",
        "    ]\n",
        "}\n",
        "\n",
        "df = pd.DataFrame(data)\n",
        "\n",
        "\n",
        "stemmer = PorterStemmer()\n",
        "stop_words = set(stopwords.words('english'))\n",
        "\n",
        "def preprocess(text):\n",
        "    text = text.lower()\n",
        "    tokens = nltk.word_tokenize(text)\n",
        "    tokens = [t for t in tokens if t.isalpha() and t not in stop_words]\n",
        "    stemmed = [stemmer.stem(t) for t in tokens]\n",
        "    return ' '.join(stemmed)\n",
        "\n",
        "df['Cleaned'] = df['Review'].apply(preprocess)\n",
        "\n",
        "\n",
        "vectorizer = TfidfVectorizer()\n",
        "X = vectorizer.fit_transform(df['Cleaned'])\n",
        "y = df['Sentiment']\n",
        "\n",
        "\n",
        "X_train, X_test, y_train, y_test = train_test_split(X, y, test_size=0.3, random_state=42)\n",
        "\n",
        "\n",
        "model = MultinomialNB()\n",
        "model.fit(X_train, y_train)\n",
        "\n",
        "\n",
        "y_pred = model.predict(X_test)\n",
        "\n",
        "print(\"\\nClassification Report:\\n\")\n",
        "print(classification_report(y_test, y_pred))\n",
        "\n",
        "cm = confusion_matrix(y_test, y_pred, labels=[\"negative\", \"neutral\", \"positive\"])\n",
        "\n",
        "sns.heatmap(cm, annot=True, fmt=\"d\", cmap=\"Blues\", xticklabels=[\"negative\", \"neutral\", \"positive\"], yticklabels=[\"negative\", \"neutral\", \"positive\"])\n",
        "plt.xlabel(\"Predicted\")\n",
        "plt.ylabel(\"Actual\")\n",
        "plt.title(\"Confusion Matrix\")\n",
        "plt.show()\n",
        "\n",
        "\n",
        "sample_reviews = [\n",
        "    \"Nothing extraordinary\",\n",
        "    \"Do not buy this product\",\n",
        "    \"Top-notch and reliable\",\n",
        "    \"Terrible support team\",\n",
        "    \"I'm very happy with it\"\n",
        "]\n",
        "\n",
        "sample_cleaned = [preprocess(review) for review in sample_reviews]\n",
        "sample_tfidf = vectorizer.transform(sample_cleaned)\n",
        "predictions = model.predict(sample_tfidf)\n",
        "\n",
        "print(\"\\nSentiment Predictions:\\n\")\n",
        "for review, pred in zip(sample_reviews, predictions):\n",
        "    print(f\"Review: \\\"{review}\\\" ➜ Predicted Sentiment: {pred}\")\n"
      ]
    }
  ]
}